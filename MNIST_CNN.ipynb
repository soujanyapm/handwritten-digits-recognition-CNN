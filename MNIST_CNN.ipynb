{
  "cells": [
    {
      "cell_type": "code",
      "execution_count": null,
      "metadata": {
        "id": "_a46B9AMz531"
      },
      "outputs": [],
      "source": [
        "# The MNIST dataset is present in Keras, so we dont need to mount the drive\n",
        "import keras"
      ]
    },
    {
      "cell_type": "code",
      "execution_count": null,
      "metadata": {
        "id": "ZPVqMdMu0j_f"
      },
      "outputs": [],
      "source": [
        "from keras.datasets import mnist\n",
        "from keras.utils import np_utils\n",
        "\n",
        "(train_images,train_labels),(test_images,test_labels) = mnist.load_data()"
      ]
    },
    {
      "cell_type": "code",
      "execution_count": null,
      "metadata": {
        "colab": {
          "base_uri": "https://localhost:8080/"
        },
        "id": "AYJ2K26V1iWo",
        "outputId": "db772330-38c8-4d97-f262-456c19f34bc9"
      },
      "outputs": [
        {
          "output_type": "execute_result",
          "data": {
            "text/plain": [
              "(60000, 28, 28)"
            ]
          },
          "metadata": {},
          "execution_count": 27
        }
      ],
      "source": [
        "train_images.shape\n",
        "# (60000, 28, 28)\n",
        "# 60,000 images with each image size being 28 * 28 pixels"
      ]
    },
    {
      "cell_type": "code",
      "execution_count": null,
      "metadata": {
        "colab": {
          "base_uri": "https://localhost:8080/"
        },
        "id": "PueFcnH11x0j",
        "outputId": "f7fb54bf-abc2-4bbf-ca41-90f624838e7d"
      },
      "outputs": [
        {
          "output_type": "execute_result",
          "data": {
            "text/plain": [
              "(28, 28)"
            ]
          },
          "metadata": {},
          "execution_count": 28
        }
      ],
      "source": [
        "train_images[0].shape"
      ]
    },
    {
      "cell_type": "code",
      "execution_count": null,
      "metadata": {
        "colab": {
          "base_uri": "https://localhost:8080/"
        },
        "id": "jhqfLTSn2Rib",
        "outputId": "fa17bb90-9117-46a2-d25c-1209c4298faf"
      },
      "outputs": [
        {
          "output_type": "execute_result",
          "data": {
            "text/plain": [
              "array([[  0,   0,   0,   0,   0,   0,   0,   0,   0,   0,   0,   0,   0,\n",
              "          0,   0,   0,   0,   0,   0,   0,   0,   0,   0,   0,   0,   0,\n",
              "          0,   0],\n",
              "       [  0,   0,   0,   0,   0,   0,   0,   0,   0,   0,   0,   0,   0,\n",
              "          0,   0,   0,   0,   0,   0,   0,   0,   0,   0,   0,   0,   0,\n",
              "          0,   0],\n",
              "       [  0,   0,   0,   0,   0,   0,   0,   0,   0,   0,   0,   0,   0,\n",
              "          0,   0,   0,   0,   0,   0,   0,   0,   0,   0,   0,   0,   0,\n",
              "          0,   0],\n",
              "       [  0,   0,   0,   0,   0,   0,   0,   0,   0,   0,   0,   0,   0,\n",
              "          0,   0,   0,   0,   0,   0,   0,   0,   0,   0,   0,   0,   0,\n",
              "          0,   0],\n",
              "       [  0,   0,   0,   0,   0,   0,   0,   0,   0,   0,   0,   0,   0,\n",
              "          0,   0,   0,   0,   0,   0,   0,   0,   0,   0,   0,   0,   0,\n",
              "          0,   0],\n",
              "       [  0,   0,   0,   0,   0,   0,   0,   0,   0,   0,   0,   0,   0,\n",
              "          0,   0,   0,   0,   0,   0,   0,   0,   0,   0,   0,   0,   0,\n",
              "          0,   0],\n",
              "       [  0,   0,   0,   0,   0,   0,   0,   0,   0,   0,   0,   0,   0,\n",
              "          0,   0,   0,   0,   0,   0,   0,   0,   0,   0,   0,   0,   0,\n",
              "          0,   0],\n",
              "       [  0,   0,   0,   0,   0,   0,   0,   0,   0,   0,   0,   0,   0,\n",
              "          0,   0,   0,   0,   0,   0,   0,  31,  40, 129, 234, 234, 159,\n",
              "          0,   0],\n",
              "       [  0,   0,   0,   0,   0,   0,   0,   0,   0,   0,   0,   0,   0,\n",
              "          0,   0,   0,   0,   0,  68, 150, 239, 254, 253, 253, 253, 215,\n",
              "          0,   0],\n",
              "       [  0,   0,   0,   0,   0,   0,   0,   0,   0,   0,   0,   0,   0,\n",
              "          0,   0,   0, 156, 201, 254, 254, 254, 241, 150,  98,   8,   0,\n",
              "          0,   0],\n",
              "       [  0,   0,   0,   0,   0,   0,   0,   0,   0,   0,   0,   0,   0,\n",
              "          0,  19, 154, 254, 236, 203,  83,  39,  30,   0,   0,   0,   0,\n",
              "          0,   0],\n",
              "       [  0,   0,   0,   0,   0,   0,   0,   0,   0,   0,   0,   0,   0,\n",
              "          0, 144, 253, 145,  12,   0,   0,   0,   0,   0,   0,   0,   0,\n",
              "          0,   0],\n",
              "       [  0,   0,   0,   0,   0,   0,   0,   0,   0,   0,   0,  10, 129,\n",
              "        222,  78,  79,   8,   0,   0,   0,   0,   0,   0,   0,   0,   0,\n",
              "          0,   0],\n",
              "       [  0,   0,   0,   0,   0,   0,   0,   0,   0,   0,   0, 134, 253,\n",
              "        167,   8,   0,   0,   0,   0,   0,   0,   0,   0,   0,   0,   0,\n",
              "          0,   0],\n",
              "       [  0,   0,   0,   0,   0,   0,   0,   0,   0,   0,   0, 255, 254,\n",
              "         78,   0,   0,   0,   0,   0,   0,   0,   0,   0,   0,   0,   0,\n",
              "          0,   0],\n",
              "       [  0,   0,   0,   0,   0,   0,   0,   0,   0,   0,   0, 201, 253,\n",
              "        226,  69,   0,   0,   0,   0,   0,   0,   0,   0,   0,   0,   0,\n",
              "          0,   0],\n",
              "       [  0,   0,   0,   0,   0,   0,   0,   0,  55,   6,   0,  18, 128,\n",
              "        253, 241,  41,   0,   0,   0,   0,   0,   0,   0,   0,   0,   0,\n",
              "          0,   0],\n",
              "       [  0,   0,   0,   0,   0,   0,  25, 205, 235,  92,   0,   0,  20,\n",
              "        253, 253,  58,   0,   0,   0,   0,   0,   0,   0,   0,   0,   0,\n",
              "          0,   0],\n",
              "       [  0,   0,   0,   0,   0,   0, 231, 245, 108,   0,   0,   0, 132,\n",
              "        253, 185,  14,   0,   0,   0,   0,   0,   0,   0,   0,   0,   0,\n",
              "          0,   0],\n",
              "       [  0,   0,   0,   0,   0,   0, 121, 245, 254, 254, 254, 217, 254,\n",
              "        223,  50,   0,   0,   0,   0,   0,   0,   0,   0,   0,   0,   0,\n",
              "          0,   0],\n",
              "       [  0,   0,   0,   0,   0,   0,   0, 116, 165, 233, 233, 234, 180,\n",
              "         39,   3,   0,   0,   0,   0,   0,   0,   0,   0,   0,   0,   0,\n",
              "          0,   0],\n",
              "       [  0,   0,   0,   0,   0,   0,   0,   0,   0,   0,   0,   0,   0,\n",
              "          0,   0,   0,   0,   0,   0,   0,   0,   0,   0,   0,   0,   0,\n",
              "          0,   0],\n",
              "       [  0,   0,   0,   0,   0,   0,   0,   0,   0,   0,   0,   0,   0,\n",
              "          0,   0,   0,   0,   0,   0,   0,   0,   0,   0,   0,   0,   0,\n",
              "          0,   0],\n",
              "       [  0,   0,   0,   0,   0,   0,   0,   0,   0,   0,   0,   0,   0,\n",
              "          0,   0,   0,   0,   0,   0,   0,   0,   0,   0,   0,   0,   0,\n",
              "          0,   0],\n",
              "       [  0,   0,   0,   0,   0,   0,   0,   0,   0,   0,   0,   0,   0,\n",
              "          0,   0,   0,   0,   0,   0,   0,   0,   0,   0,   0,   0,   0,\n",
              "          0,   0],\n",
              "       [  0,   0,   0,   0,   0,   0,   0,   0,   0,   0,   0,   0,   0,\n",
              "          0,   0,   0,   0,   0,   0,   0,   0,   0,   0,   0,   0,   0,\n",
              "          0,   0],\n",
              "       [  0,   0,   0,   0,   0,   0,   0,   0,   0,   0,   0,   0,   0,\n",
              "          0,   0,   0,   0,   0,   0,   0,   0,   0,   0,   0,   0,   0,\n",
              "          0,   0],\n",
              "       [  0,   0,   0,   0,   0,   0,   0,   0,   0,   0,   0,   0,   0,\n",
              "          0,   0,   0,   0,   0,   0,   0,   0,   0,   0,   0,   0,   0,\n",
              "          0,   0]], dtype=uint8)"
            ]
          },
          "metadata": {},
          "execution_count": 29
        }
      ],
      "source": [
        "train_images[11] #28 rows and 28 columns"
      ]
    },
    {
      "cell_type": "code",
      "execution_count": null,
      "metadata": {
        "id": "hcn-1XxB22l7"
      },
      "outputs": [],
      "source": [
        "train_images = train_images.reshape((60000, 28, 28, 1)) # we are adding depth here, since numbers are grayscale images, depth will be 1. If it is colored image then depth will be 3."
      ]
    },
    {
      "cell_type": "code",
      "execution_count": null,
      "metadata": {
        "id": "GiRszCz42yh7"
      },
      "outputs": [],
      "source": [
        "# now we need to perform feature scaling, as the pixel values are ranging from 0 to 255. we need to bring them down to the range [0,1].\n",
        "# In deep learning projects most of the times we use min/max scaling, i.e., normalization.\n",
        "# min = 0, max = 255 \n",
        "# scaling = x - min/(max - min)\n",
        "# scaling = x - 0/(255 - 0)  ----> this is nothing but just dividing the x by 255. so we divide every pixel by 255 to do the scaling.\n",
        "\n",
        "train_images = train_images.astype('float32') / 255\n",
        "\n",
        "test_images = test_images.reshape((10000, 28, 28, 1))\n",
        "test_images = test_images.astype('float32') / 255"
      ]
    },
    {
      "cell_type": "code",
      "execution_count": null,
      "metadata": {
        "id": "MwhEBfIZ2m6j"
      },
      "outputs": [],
      "source": [
        "# here we have 10 categories in the target variable as we have 10 digits from 0 to 9. Now we need to convert this to one hot encoded columns.\n",
        "# after encoding we will have 10 new columns added to the labels data.\n",
        "train_labels = np_utils.to_categorical(train_labels)\n",
        "test_labels = np_utils.to_categorical(test_labels)"
      ]
    },
    {
      "cell_type": "code",
      "execution_count": null,
      "metadata": {
        "colab": {
          "base_uri": "https://localhost:8080/"
        },
        "id": "6xsb8PMz2jIb",
        "outputId": "e7be271c-b1f2-49d8-9b70-aaeda87a5db5"
      },
      "outputs": [
        {
          "output_type": "execute_result",
          "data": {
            "text/plain": [
              "(60000, 10)"
            ]
          },
          "metadata": {},
          "execution_count": 33
        }
      ],
      "source": [
        "train_labels.shape"
      ]
    },
    {
      "cell_type": "code",
      "execution_count": null,
      "metadata": {
        "colab": {
          "base_uri": "https://localhost:8080/"
        },
        "id": "VEw1F9q62e2L",
        "outputId": "13b4f50a-8589-4174-836b-16418df037ab"
      },
      "outputs": [
        {
          "output_type": "execute_result",
          "data": {
            "text/plain": [
              "array([0., 0., 0., 0., 0., 1., 0., 0., 0., 0.], dtype=float32)"
            ]
          },
          "metadata": {},
          "execution_count": 34
        }
      ],
      "source": [
        "train_labels[0]"
      ]
    },
    {
      "cell_type": "code",
      "execution_count": null,
      "metadata": {
        "id": "iQGCZuBKrgh4"
      },
      "outputs": [],
      "source": [
        "from keras import layers\n",
        "from keras import models\n",
        "\n",
        "model = models.Sequential()\n",
        "\n",
        "# adding first convolution layer with 32 nodes--> 32 filters, with size of each filter being 3*3. \n",
        "# while adding first convolution layer, it also adds input layer \n",
        "# input image size is 28 * 28 * 1\n",
        "model.add(layers.Conv2D(32, (3,3), activation ='relu', input_shape=(28,28,1)))\n",
        "\n",
        "# adding max pooling layer, with window size 2*2. i.e., within each 2*2 window on convolved image we find the max value.\n",
        "model.add(layers.MaxPooling2D((2,2)))\n",
        "\n",
        "# 2nd convolution layer with 16 filters with size 5*5\n",
        "model.add(layers.Conv2D(16, (5,5) , activation='relu'))\n",
        "\n",
        "# 2nd max pooling layer\n",
        "model.add(layers.MaxPooling2D((2,2)))"
      ]
    },
    {
      "cell_type": "code",
      "execution_count": null,
      "metadata": {
        "id": "hgSQt4juLfW2"
      },
      "outputs": [],
      "source": [
        "# Now after the CNN layers, we flatten the final matrix, and feed it to ANN for classification.\n",
        "# after flattening we pass it to  dense hidden layers and finally to output layer\n",
        "\n",
        "model.add(layers.Flatten())\n",
        "\n",
        "# first dense hidden layer\n",
        "# 64 nodes --> some math has to be done to know what will be the size of the flattened array, with activation function as relu\n",
        "model.add(layers.Dense(64, activation = 'relu'))\n",
        "\n",
        "# output layer with 10 nodes as we have 10 digits as categories.\n",
        "model.add(layers.Dense(10, activation = 'softmax'))"
      ]
    },
    {
      "cell_type": "code",
      "execution_count": null,
      "metadata": {
        "colab": {
          "base_uri": "https://localhost:8080/"
        },
        "id": "mkUIZg80ekuX",
        "outputId": "c7331229-8b5c-4132-cedd-1a6656ca294f"
      },
      "outputs": [
        {
          "output_type": "stream",
          "name": "stdout",
          "text": [
            "Epoch 1/10\n",
            "938/938 [==============================] - 9s 9ms/step - loss: 0.2239 - accuracy: 0.9327\n",
            "Epoch 2/10\n",
            "938/938 [==============================] - 11s 11ms/step - loss: 0.0692 - accuracy: 0.9789\n",
            "Epoch 3/10\n",
            "938/938 [==============================] - 8s 8ms/step - loss: 0.0484 - accuracy: 0.9852\n",
            "Epoch 4/10\n",
            "938/938 [==============================] - 7s 7ms/step - loss: 0.0379 - accuracy: 0.9883\n",
            "Epoch 5/10\n",
            "938/938 [==============================] - 7s 7ms/step - loss: 0.0322 - accuracy: 0.9897\n",
            "Epoch 6/10\n",
            "938/938 [==============================] - 7s 7ms/step - loss: 0.0262 - accuracy: 0.9916\n",
            "Epoch 7/10\n",
            "938/938 [==============================] - 9s 9ms/step - loss: 0.0229 - accuracy: 0.9930\n",
            "Epoch 8/10\n",
            "938/938 [==============================] - 7s 8ms/step - loss: 0.0190 - accuracy: 0.9940\n",
            "Epoch 9/10\n",
            "938/938 [==============================] - 7s 7ms/step - loss: 0.0177 - accuracy: 0.9949\n",
            "Epoch 10/10\n",
            "938/938 [==============================] - 7s 7ms/step - loss: 0.0144 - accuracy: 0.9956\n"
          ]
        },
        {
          "output_type": "execute_result",
          "data": {
            "text/plain": [
              "<keras.callbacks.History at 0x7fbe6af9c490>"
            ]
          },
          "metadata": {},
          "execution_count": 37
        }
      ],
      "source": [
        "model.compile(optimizer = 'rmsprop', loss='categorical_crossentropy', metrics=['accuracy'])\n",
        "\n",
        "model.fit(train_images,train_labels,epochs=10,batch_size=64 )"
      ]
    },
    {
      "cell_type": "code",
      "execution_count": null,
      "metadata": {
        "id": "NtPEAUzqsC8u",
        "colab": {
          "base_uri": "https://localhost:8080/"
        },
        "outputId": "b9669734-db01-4665-9c71-f802904cdb65"
      },
      "outputs": [
        {
          "output_type": "stream",
          "name": "stdout",
          "text": [
            "313/313 [==============================] - 1s 4ms/step - loss: 0.0364 - accuracy: 0.9889\n"
          ]
        }
      ],
      "source": [
        "test_loss, test_acc = model.evaluate(test_images,test_labels)"
      ]
    },
    {
      "cell_type": "code",
      "execution_count": null,
      "metadata": {
        "id": "bxw9RY-jtjHU",
        "colab": {
          "base_uri": "https://localhost:8080/"
        },
        "outputId": "c6463b07-ddb0-4018-cbbb-09dea90da633"
      },
      "outputs": [
        {
          "output_type": "execute_result",
          "data": {
            "text/plain": [
              "(28, 28, 1)"
            ]
          },
          "metadata": {},
          "execution_count": 39
        }
      ],
      "source": [
        "test_images[0].shape"
      ]
    },
    {
      "cell_type": "code",
      "execution_count": null,
      "metadata": {
        "id": "3RwpkklzttMJ",
        "colab": {
          "base_uri": "https://localhost:8080/"
        },
        "outputId": "7ec3e1ba-076c-4b1f-a234-ca0cb264c0fe"
      },
      "outputs": [
        {
          "output_type": "execute_result",
          "data": {
            "text/plain": [
              "[<keras.layers.convolutional.Conv2D at 0x7fbf501e6190>,\n",
              " <keras.layers.pooling.MaxPooling2D at 0x7fbe6c2897d0>,\n",
              " <keras.layers.convolutional.Conv2D at 0x7fbf50137210>,\n",
              " <keras.layers.pooling.MaxPooling2D at 0x7fbe6c2315d0>,\n",
              " <keras.layers.core.flatten.Flatten at 0x7fbe6afb1150>,\n",
              " <keras.layers.core.dense.Dense at 0x7fbe6afb1110>,\n",
              " <keras.layers.core.dense.Dense at 0x7fbe6c27e250>]"
            ]
          },
          "metadata": {},
          "execution_count": 40
        }
      ],
      "source": [
        "model.layers"
      ]
    },
    {
      "cell_type": "code",
      "execution_count": null,
      "metadata": {
        "id": "wgtmR8FKtzaH"
      },
      "outputs": [],
      "source": [
        "test_data = train_images[10].reshape(1,28,28,1) # taking single image from train data and reshaping it"
      ]
    },
    {
      "cell_type": "code",
      "execution_count": null,
      "metadata": {
        "id": "uZMOQtdvuEgK"
      },
      "outputs": [],
      "source": [
        "import numpy as np\n",
        "predictions = model.predict(test_images)\n",
        "predictions = np.argmax(predictions, axis =1)"
      ]
    },
    {
      "cell_type": "code",
      "execution_count": null,
      "metadata": {
        "id": "jZIPpx6ruwt7",
        "colab": {
          "base_uri": "https://localhost:8080/"
        },
        "outputId": "e9b38bbc-fd91-43a6-eb1e-5855bb91d884"
      },
      "outputs": [
        {
          "output_type": "execute_result",
          "data": {
            "text/plain": [
              "array([7, 2, 1, ..., 4, 5, 6])"
            ]
          },
          "metadata": {},
          "execution_count": 43
        }
      ],
      "source": [
        "predictions"
      ]
    },
    {
      "cell_type": "code",
      "execution_count": null,
      "metadata": {
        "id": "ANAq0eXpu6sV"
      },
      "outputs": [],
      "source": [
        "from sklearn.metrics import confusion_matrix\n",
        "cm = confusion_matrix(np.argmax(test_labels,axis = 1),predictions)"
      ]
    },
    {
      "cell_type": "code",
      "source": [
        "cm # 10*10 matrix as we have 10 categories\n",
        "# all the values in diagonal are number of correctly predicted values and rest of them are incorrectly predicted values"
      ],
      "metadata": {
        "id": "qNGS3KTkCar_",
        "colab": {
          "base_uri": "https://localhost:8080/"
        },
        "outputId": "767acdfe-d24c-4570-c618-fff0af5864eb"
      },
      "execution_count": null,
      "outputs": [
        {
          "output_type": "execute_result",
          "data": {
            "text/plain": [
              "array([[ 977,    0,    1,    0,    0,    0,    1,    0,    1,    0],\n",
              "       [   0, 1132,    0,    1,    0,    0,    1,    0,    0,    1],\n",
              "       [   2,    2, 1022,    1,    2,    0,    0,    2,    1,    0],\n",
              "       [   0,    0,    1, 1004,    0,    3,    0,    1,    1,    0],\n",
              "       [   0,    0,    2,    0,  975,    0,    3,    0,    1,    1],\n",
              "       [   2,    0,    0,    7,    0,  878,    3,    1,    0,    1],\n",
              "       [   3,    2,    0,    1,    1,    1,  950,    0,    0,    0],\n",
              "       [   0,    6,    4,    2,    0,    0,    0, 1015,    0,    1],\n",
              "       [   5,    0,    2,    1,    1,    2,    2,    1,  960,    0],\n",
              "       [   4,    0,    0,    4,   10,    8,    1,    3,    3,  976]])"
            ]
          },
          "metadata": {},
          "execution_count": 45
        }
      ]
    },
    {
      "cell_type": "code",
      "source": [
        "model.save('models/mnist_CNN.h5')"
      ],
      "metadata": {
        "id": "ht2hxZ6KCbol"
      },
      "execution_count": null,
      "outputs": []
    },
    {
      "cell_type": "code",
      "source": [
        "from keras.models import load_model\n",
        "model = load_model('models/mnist_CNN.h5')"
      ],
      "metadata": {
        "id": "ZcRQJC-OE2sB"
      },
      "execution_count": null,
      "outputs": []
    },
    {
      "cell_type": "code",
      "source": [
        "from google.colab import drive\n",
        "drive.mount('/content/drive')"
      ],
      "metadata": {
        "colab": {
          "base_uri": "https://localhost:8080/"
        },
        "id": "8bATEun_K7Sq",
        "outputId": "08936453-997c-47fa-a578-84137d5b5314"
      },
      "execution_count": null,
      "outputs": [
        {
          "output_type": "stream",
          "name": "stdout",
          "text": [
            "Mounted at /content/drive\n"
          ]
        }
      ]
    },
    {
      "cell_type": "code",
      "source": [
        "import os\n",
        "os.getcwd()"
      ],
      "metadata": {
        "colab": {
          "base_uri": "https://localhost:8080/",
          "height": 35
        },
        "id": "yExXLzlkLQKY",
        "outputId": "e7ec6041-61e6-420b-a064-4b346e174909"
      },
      "execution_count": null,
      "outputs": [
        {
          "output_type": "execute_result",
          "data": {
            "application/vnd.google.colaboratory.intrinsic+json": {
              "type": "string"
            },
            "text/plain": [
              "'/content'"
            ]
          },
          "metadata": {},
          "execution_count": 51
        }
      ]
    },
    {
      "cell_type": "code",
      "source": [
        "os.chdir('/content/drive/My Drive')"
      ],
      "metadata": {
        "id": "zAHt9wxxLYfy"
      },
      "execution_count": null,
      "outputs": []
    },
    {
      "cell_type": "code",
      "source": [
        "from PIL import Image\n",
        "img = Image.open('0.png').convert(\"L\")\n",
        "img = img.resize((28,28))\n",
        "img2arr = np.array(img)\n",
        "img2arr = img2arr.reshape(1,28,28,1)\n",
        "pred = model.predict(img2arr)"
      ],
      "metadata": {
        "id": "V9gJk5jAGjF0"
      },
      "execution_count": null,
      "outputs": []
    },
    {
      "cell_type": "code",
      "source": [
        "np.argmax(pred,axis=1)"
      ],
      "metadata": {
        "colab": {
          "base_uri": "https://localhost:8080/"
        },
        "id": "670R4yD6L8Ji",
        "outputId": "5975bcc1-3e3d-4272-a5db-e5a4484c0e61"
      },
      "execution_count": null,
      "outputs": [
        {
          "output_type": "execute_result",
          "data": {
            "text/plain": [
              "array([0])"
            ]
          },
          "metadata": {},
          "execution_count": 57
        }
      ]
    },
    {
      "cell_type": "code",
      "source": [
        "img = Image.open('7.png').convert(\"L\")\n",
        "img = img.resize((28,28))\n",
        "img2arr = np.array(img)\n",
        "img2arr = img2arr.reshape(1,28,28,1)\n",
        "pred = model.predict(img2arr)\n",
        "pred = np.argmax(pred,axis=1)\n",
        "print(pred)"
      ],
      "metadata": {
        "colab": {
          "base_uri": "https://localhost:8080/"
        },
        "id": "6FLv07wTMT03",
        "outputId": "67042aeb-a252-4883-e5ea-cc58e9b1fabd"
      },
      "execution_count": null,
      "outputs": [
        {
          "output_type": "stream",
          "name": "stdout",
          "text": [
            "[7]\n"
          ]
        }
      ]
    }
  ],
  "metadata": {
    "accelerator": "GPU",
    "colab": {
      "collapsed_sections": [],
      "name": "MNIST_CNN.ipynb",
      "provenance": [],
      "authorship_tag": "ABX9TyN++CMdAqbfdw7XuCCQNWk9"
    },
    "kernelspec": {
      "display_name": "Python 3",
      "name": "python3"
    },
    "language_info": {
      "name": "python"
    }
  },
  "nbformat": 4,
  "nbformat_minor": 0
}